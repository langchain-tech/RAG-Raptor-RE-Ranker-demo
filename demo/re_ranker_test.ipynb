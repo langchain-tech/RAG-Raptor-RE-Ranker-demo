{
 "cells": [
  {
   "cell_type": "code",
   "execution_count": 11,
   "metadata": {},
   "outputs": [
    {
     "data": {
      "text/plain": [
       "True"
      ]
     },
     "execution_count": 11,
     "metadata": {},
     "output_type": "execute_result"
    }
   ],
   "source": [
    "import os\n",
    "import cohere\n",
    "from langchain_openai import OpenAIEmbeddings\n",
    "from langchain_postgres.vectorstores import PGVector\n",
    "from dotenv import load_dotenv\n",
    "load_dotenv()"
   ]
  },
  {
   "cell_type": "code",
   "execution_count": null,
   "metadata": {},
   "outputs": [],
   "source": [
    "os.environ[\"OPENAI_API_KEY\"] =os.getenv(\"OPENAI_API_KEY\")\n",
    "cohere_api_key = os.getenv(\"COHERE_API_KEY\")\n",
    "POSTGRES_URL = os.getenv(\"POSTGRES_URL\")\n",
    "\n",
    "co = cohere.Client(cohere_api_key)"
   ]
  },
  {
   "cell_type": "code",
   "execution_count": 12,
   "metadata": {},
   "outputs": [],
   "source": [
    "def get_vectorstore_from_postgres(collection_name):\n",
    "    openai_ef = OpenAIEmbeddings()\n",
    "    vectorstore = PGVector(\n",
    "        embeddings=openai_ef,\n",
    "        collection_name=collection_name,\n",
    "        connection=POSTGRES_URL,\n",
    "        use_jsonb=True,\n",
    "    ) \n",
    "    return vectorstore  "
   ]
  },
  {
   "cell_type": "code",
   "execution_count": 4,
   "metadata": {},
   "outputs": [],
   "source": [
    "vectorstore=get_vectorstore_from_postgres(\"c1\")"
   ]
  },
  {
   "cell_type": "code",
   "execution_count": 13,
   "metadata": {},
   "outputs": [],
   "source": [
    "def get_context_from_vectorstore(user_query,vectorstore):\n",
    "    relevant_docs = vectorstore.similarity_search(user_query,k=20)\n",
    "    docs = [x.page_content for x in relevant_docs]\n",
    "    return docs"
   ]
  },
  {
   "cell_type": "code",
   "execution_count": 14,
   "metadata": {},
   "outputs": [],
   "source": [
    "query=\"what is the value of Total Community Services in adopted 2023 2024\"\n",
    "docs=get_context_from_vectorstore(query,vectorstore)"
   ]
  },
  {
   "cell_type": "code",
   "execution_count": 26,
   "metadata": {},
   "outputs": [],
   "source": [
    "def cohere_re_ranker(query, docs):\n",
    "    rerank_docs = co.rerank(query=query, documents=docs, top_n=4, model='rerank-english-v3.0')\n",
    "    return rerank_docs"
   ]
  },
  {
   "cell_type": "code",
   "execution_count": 27,
   "metadata": {},
   "outputs": [],
   "source": [
    "rerank_docs=cohere_re_ranker(query,docs)"
   ]
  },
  {
   "cell_type": "code",
   "execution_count": 30,
   "metadata": {},
   "outputs": [
    {
     "data": {
      "text/plain": [
       "[RerankResponseResultsItem(document=None, index=2, relevance_score=0.97389406),\n",
       " RerankResponseResultsItem(document=None, index=5, relevance_score=0.8392076),\n",
       " RerankResponseResultsItem(document=None, index=6, relevance_score=0.8071568),\n",
       " RerankResponseResultsItem(document=None, index=9, relevance_score=0.67768735)]"
      ]
     },
     "execution_count": 30,
     "metadata": {},
     "output_type": "execute_result"
    }
   ],
   "source": [
    "rerank_docs.results"
   ]
  },
  {
   "cell_type": "code",
   "execution_count": null,
   "metadata": {},
   "outputs": [],
   "source": []
  },
  {
   "cell_type": "code",
   "execution_count": null,
   "metadata": {},
   "outputs": [],
   "source": []
  }
 ],
 "metadata": {
  "kernelspec": {
   "display_name": ".venv",
   "language": "python",
   "name": "python3"
  },
  "language_info": {
   "codemirror_mode": {
    "name": "ipython",
    "version": 3
   },
   "file_extension": ".py",
   "mimetype": "text/x-python",
   "name": "python",
   "nbconvert_exporter": "python",
   "pygments_lexer": "ipython3",
   "version": "3.9.19"
  }
 },
 "nbformat": 4,
 "nbformat_minor": 2
}
